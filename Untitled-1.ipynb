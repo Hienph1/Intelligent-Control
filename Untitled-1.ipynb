{
 "cells": [
  {
   "cell_type": "code",
   "execution_count": 234,
   "metadata": {},
   "outputs": [],
   "source": [
    "import random\n",
    "import math\n",
    "import numpy as np"
   ]
  },
  {
   "cell_type": "code",
   "execution_count": 235,
   "metadata": {},
   "outputs": [],
   "source": [
    "n = 3\n",
    "c = n*n\n",
    "M = n*(n**2+1)/2\n",
    "generation_num = 50\n",
    "S = 100\n",
    "p_c = 0.3\n",
    "p_m = 0.1"
   ]
  },
  {
   "cell_type": "code",
   "execution_count": 236,
   "metadata": {},
   "outputs": [],
   "source": [
    "population = []\n",
    "fitness = []"
   ]
  },
  {
   "cell_type": "code",
   "execution_count": 237,
   "metadata": {},
   "outputs": [],
   "source": [
    "def find_fitness(population):\n",
    "    for i in range(S):\n",
    "        matrix = np.array(population[i]).reshape((3,3))\n",
    "        sum_rows = np.sum(matrix, axis = 1)\n",
    "        sum_cols = np.sum(matrix, axis = 0)\n",
    "        sum_diag1 = np.trace(matrix)\n",
    "        sum_diag2 = np.trace(np.fliplr(matrix))\n",
    "        f = sum(abs(M - sum_cols)) + sum(abs(M - sum_rows)) + abs(M - sum_diag1) + abs(M - sum_diag2)\n",
    "        fitness.append(f)\n",
    "    return fitness"
   ]
  },
  {
   "cell_type": "code",
   "execution_count": 238,
   "metadata": {},
   "outputs": [],
   "source": [
    "def initialize_population():\n",
    "    for i in range(S):\n",
    "        ls = [i + 1 for i in range(c)]\n",
    "        random.shuffle(ls)\n",
    "        population.append(np.array(ls))"
   ]
  },
  {
   "cell_type": "code",
   "execution_count": 239,
   "metadata": {},
   "outputs": [],
   "source": [
    "initialize_population()"
   ]
  },
  {
   "cell_type": "code",
   "execution_count": 240,
   "metadata": {},
   "outputs": [
    {
     "data": {
      "text/plain": [
       "[array([7, 6, 8, 3, 1, 2, 9, 5, 4]),\n",
       " array([3, 6, 4, 7, 5, 9, 1, 8, 2]),\n",
       " array([9, 1, 5, 6, 7, 4, 3, 2, 8]),\n",
       " array([1, 3, 6, 9, 2, 8, 4, 7, 5]),\n",
       " array([2, 3, 8, 6, 5, 4, 7, 9, 1]),\n",
       " array([4, 6, 1, 2, 7, 9, 8, 5, 3]),\n",
       " array([2, 1, 3, 4, 6, 9, 5, 7, 8]),\n",
       " array([9, 4, 2, 1, 3, 7, 6, 8, 5]),\n",
       " array([5, 8, 9, 3, 2, 4, 6, 1, 7]),\n",
       " array([4, 7, 2, 8, 6, 3, 1, 9, 5]),\n",
       " array([3, 4, 2, 1, 9, 5, 6, 7, 8]),\n",
       " array([6, 7, 1, 9, 5, 8, 3, 4, 2]),\n",
       " array([4, 3, 2, 7, 5, 8, 9, 6, 1]),\n",
       " array([8, 4, 6, 9, 7, 2, 3, 1, 5]),\n",
       " array([9, 8, 6, 5, 2, 7, 3, 1, 4]),\n",
       " array([1, 9, 7, 8, 3, 5, 4, 6, 2]),\n",
       " array([1, 8, 5, 4, 9, 2, 3, 6, 7]),\n",
       " array([7, 5, 6, 3, 9, 4, 1, 2, 8]),\n",
       " array([1, 3, 6, 5, 2, 4, 9, 8, 7]),\n",
       " array([9, 8, 1, 2, 3, 7, 6, 5, 4]),\n",
       " array([3, 7, 5, 6, 1, 4, 9, 8, 2]),\n",
       " array([3, 1, 6, 9, 2, 8, 4, 7, 5]),\n",
       " array([8, 3, 5, 1, 9, 2, 4, 7, 6]),\n",
       " array([5, 9, 8, 7, 1, 3, 6, 4, 2]),\n",
       " array([1, 6, 7, 5, 8, 4, 9, 2, 3]),\n",
       " array([4, 2, 9, 6, 5, 8, 1, 3, 7]),\n",
       " array([3, 2, 9, 6, 1, 4, 7, 5, 8]),\n",
       " array([7, 2, 4, 3, 9, 8, 5, 6, 1]),\n",
       " array([3, 5, 2, 7, 8, 6, 1, 9, 4]),\n",
       " array([3, 5, 2, 6, 9, 1, 8, 4, 7]),\n",
       " array([5, 2, 3, 7, 1, 4, 6, 8, 9]),\n",
       " array([8, 3, 9, 2, 7, 4, 1, 5, 6]),\n",
       " array([5, 4, 7, 6, 8, 2, 9, 3, 1]),\n",
       " array([3, 1, 7, 8, 6, 5, 2, 4, 9]),\n",
       " array([8, 3, 9, 6, 4, 5, 1, 2, 7]),\n",
       " array([6, 8, 9, 1, 4, 3, 2, 5, 7]),\n",
       " array([2, 1, 5, 4, 8, 9, 6, 3, 7]),\n",
       " array([8, 3, 2, 9, 7, 1, 5, 4, 6]),\n",
       " array([9, 8, 6, 2, 4, 1, 7, 5, 3]),\n",
       " array([6, 5, 4, 2, 3, 1, 8, 9, 7]),\n",
       " array([5, 7, 2, 3, 9, 4, 1, 8, 6]),\n",
       " array([2, 9, 4, 7, 8, 3, 6, 5, 1]),\n",
       " array([5, 1, 4, 9, 2, 6, 7, 3, 8]),\n",
       " array([8, 4, 7, 6, 3, 2, 5, 1, 9]),\n",
       " array([2, 9, 6, 8, 5, 7, 3, 4, 1]),\n",
       " array([6, 8, 1, 5, 3, 2, 4, 9, 7]),\n",
       " array([2, 1, 5, 9, 6, 4, 8, 3, 7]),\n",
       " array([8, 4, 5, 7, 9, 1, 6, 2, 3]),\n",
       " array([7, 2, 3, 1, 9, 5, 4, 8, 6]),\n",
       " array([4, 7, 8, 5, 6, 3, 2, 1, 9]),\n",
       " array([4, 6, 8, 2, 3, 5, 1, 9, 7]),\n",
       " array([6, 3, 2, 1, 7, 9, 4, 8, 5]),\n",
       " array([9, 1, 4, 6, 2, 7, 8, 3, 5]),\n",
       " array([7, 6, 8, 2, 9, 5, 3, 4, 1]),\n",
       " array([1, 5, 9, 4, 7, 6, 2, 8, 3]),\n",
       " array([3, 1, 5, 2, 9, 8, 4, 7, 6]),\n",
       " array([4, 6, 3, 8, 9, 5, 1, 2, 7]),\n",
       " array([4, 1, 5, 8, 9, 3, 2, 6, 7]),\n",
       " array([5, 9, 4, 1, 2, 7, 8, 3, 6]),\n",
       " array([7, 9, 4, 5, 1, 3, 6, 8, 2]),\n",
       " array([1, 3, 7, 8, 5, 6, 9, 4, 2]),\n",
       " array([2, 8, 1, 5, 6, 4, 9, 3, 7]),\n",
       " array([2, 9, 3, 5, 7, 8, 4, 1, 6]),\n",
       " array([5, 3, 9, 7, 2, 1, 6, 4, 8]),\n",
       " array([3, 2, 9, 6, 8, 7, 5, 1, 4]),\n",
       " array([9, 2, 5, 1, 6, 8, 7, 4, 3]),\n",
       " array([2, 7, 4, 9, 3, 1, 6, 5, 8]),\n",
       " array([5, 6, 2, 3, 1, 9, 8, 7, 4]),\n",
       " array([4, 7, 5, 3, 2, 1, 6, 9, 8]),\n",
       " array([1, 9, 8, 3, 2, 7, 5, 6, 4]),\n",
       " array([4, 5, 8, 1, 3, 6, 9, 2, 7]),\n",
       " array([1, 4, 2, 7, 9, 3, 8, 6, 5]),\n",
       " array([7, 6, 8, 5, 3, 2, 4, 9, 1]),\n",
       " array([6, 1, 4, 9, 2, 7, 3, 5, 8]),\n",
       " array([3, 5, 4, 1, 7, 9, 2, 8, 6]),\n",
       " array([8, 2, 4, 9, 3, 6, 7, 1, 5]),\n",
       " array([6, 9, 4, 3, 8, 5, 2, 7, 1]),\n",
       " array([4, 7, 8, 5, 9, 2, 3, 6, 1]),\n",
       " array([9, 2, 8, 7, 4, 1, 5, 6, 3]),\n",
       " array([6, 4, 7, 5, 1, 8, 3, 9, 2]),\n",
       " array([9, 1, 3, 2, 6, 4, 7, 5, 8]),\n",
       " array([8, 4, 5, 7, 1, 9, 3, 6, 2]),\n",
       " array([8, 4, 2, 1, 3, 7, 5, 9, 6]),\n",
       " array([1, 6, 3, 7, 5, 9, 8, 2, 4]),\n",
       " array([2, 5, 6, 1, 9, 7, 8, 3, 4]),\n",
       " array([5, 4, 8, 1, 2, 3, 7, 9, 6]),\n",
       " array([2, 8, 7, 9, 3, 5, 1, 4, 6]),\n",
       " array([7, 3, 8, 9, 2, 4, 1, 5, 6]),\n",
       " array([9, 8, 7, 1, 4, 2, 6, 5, 3]),\n",
       " array([2, 3, 7, 8, 9, 4, 1, 5, 6]),\n",
       " array([2, 8, 6, 4, 1, 5, 3, 7, 9]),\n",
       " array([3, 4, 5, 1, 8, 6, 7, 2, 9]),\n",
       " array([9, 6, 7, 8, 3, 2, 5, 1, 4]),\n",
       " array([4, 5, 1, 9, 3, 2, 8, 6, 7]),\n",
       " array([6, 5, 3, 2, 7, 9, 4, 1, 8]),\n",
       " array([2, 4, 1, 7, 8, 6, 5, 9, 3]),\n",
       " array([9, 6, 2, 8, 3, 5, 1, 7, 4]),\n",
       " array([6, 7, 3, 5, 4, 8, 1, 2, 9]),\n",
       " array([8, 9, 4, 6, 5, 2, 3, 1, 7]),\n",
       " array([2, 8, 6, 9, 5, 3, 1, 7, 4])]"
      ]
     },
     "execution_count": 240,
     "metadata": {},
     "output_type": "execute_result"
    }
   ],
   "source": [
    "population"
   ]
  },
  {
   "cell_type": "code",
   "execution_count": 241,
   "metadata": {},
   "outputs": [
    {
     "data": {
      "text/plain": [
       "[32.0,\n",
       " 30.0,\n",
       " 23.0,\n",
       " 28.0,\n",
       " 20.0,\n",
       " 16.0,\n",
       " 30.0,\n",
       " 16.0,\n",
       " 27.0,\n",
       " 24.0,\n",
       " 29.0,\n",
       " 30.0,\n",
       " 28.0,\n",
       " 28.0,\n",
       " 28.0,\n",
       " 22.0,\n",
       " 22.0,\n",
       " 26.0,\n",
       " 29.0,\n",
       " 18.0,\n",
       " 25.0,\n",
       " 28.0,\n",
       " 25.0,\n",
       " 27.0,\n",
       " 18.0,\n",
       " 27.0,\n",
       " 29.0,\n",
       " 19.0,\n",
       " 30.0,\n",
       " 28.0,\n",
       " 29.0,\n",
       " 26.0,\n",
       " 24.0,\n",
       " 23.0,\n",
       " 27.0,\n",
       " 30.0,\n",
       " 32.0,\n",
       " 25.0,\n",
       " 29.0,\n",
       " 25.0,\n",
       " 28.0,\n",
       " 27.0,\n",
       " 30.0,\n",
       " 27.0,\n",
       " 28.0,\n",
       " 28.0,\n",
       " 28.0,\n",
       " 30.0,\n",
       " 22.0,\n",
       " 23.0,\n",
       " 30.0,\n",
       " 21.0,\n",
       " 22.0,\n",
       " 29.0,\n",
       " 27.0,\n",
       " 30.0,\n",
       " 25.0,\n",
       " 18.0,\n",
       " 17.0,\n",
       " 33.0,\n",
       " 27.0,\n",
       " 15.0,\n",
       " 19.0,\n",
       " 24.0,\n",
       " 29.0,\n",
       " 14.0,\n",
       " 16.0,\n",
       " 19.0,\n",
       " 27.0,\n",
       " 26.0,\n",
       " 28.0,\n",
       " 30.0,\n",
       " 24.0,\n",
       " 29.0,\n",
       " 27.0,\n",
       " 26.0,\n",
       " 29.0,\n",
       " 30.0,\n",
       " 23.0,\n",
       " 18.0,\n",
       " 25.0,\n",
       " 26.0,\n",
       " 19.0,\n",
       " 22.0,\n",
       " 20.0,\n",
       " 26.0,\n",
       " 22.0,\n",
       " 20.0,\n",
       " 27.0,\n",
       " 24.0,\n",
       " 30.0,\n",
       " 26.0,\n",
       " 29.0,\n",
       " 28.0,\n",
       " 23.0,\n",
       " 31.0,\n",
       " 24.0,\n",
       " 27.0,\n",
       " 24.0,\n",
       " 23.0]"
      ]
     },
     "execution_count": 241,
     "metadata": {},
     "output_type": "execute_result"
    }
   ],
   "source": [
    "find_fitness(population)"
   ]
  },
  {
   "cell_type": "code",
   "execution_count": 242,
   "metadata": {},
   "outputs": [
    {
     "data": {
      "text/plain": [
       "[32.0,\n",
       " 30.0,\n",
       " 23.0,\n",
       " 28.0,\n",
       " 20.0,\n",
       " 16.0,\n",
       " 30.0,\n",
       " 16.0,\n",
       " 27.0,\n",
       " 24.0,\n",
       " 29.0,\n",
       " 30.0,\n",
       " 28.0,\n",
       " 28.0,\n",
       " 28.0,\n",
       " 22.0,\n",
       " 22.0,\n",
       " 26.0,\n",
       " 29.0,\n",
       " 18.0,\n",
       " 25.0,\n",
       " 28.0,\n",
       " 25.0,\n",
       " 27.0,\n",
       " 18.0,\n",
       " 27.0,\n",
       " 29.0,\n",
       " 19.0,\n",
       " 30.0,\n",
       " 28.0,\n",
       " 29.0,\n",
       " 26.0,\n",
       " 24.0,\n",
       " 23.0,\n",
       " 27.0,\n",
       " 30.0,\n",
       " 32.0,\n",
       " 25.0,\n",
       " 29.0,\n",
       " 25.0,\n",
       " 28.0,\n",
       " 27.0,\n",
       " 30.0,\n",
       " 27.0,\n",
       " 28.0,\n",
       " 28.0,\n",
       " 28.0,\n",
       " 30.0,\n",
       " 22.0,\n",
       " 23.0,\n",
       " 30.0,\n",
       " 21.0,\n",
       " 22.0,\n",
       " 29.0,\n",
       " 27.0,\n",
       " 30.0,\n",
       " 25.0,\n",
       " 18.0,\n",
       " 17.0,\n",
       " 33.0,\n",
       " 27.0,\n",
       " 15.0,\n",
       " 19.0,\n",
       " 24.0,\n",
       " 29.0,\n",
       " 14.0,\n",
       " 16.0,\n",
       " 19.0,\n",
       " 27.0,\n",
       " 26.0,\n",
       " 28.0,\n",
       " 30.0,\n",
       " 24.0,\n",
       " 29.0,\n",
       " 27.0,\n",
       " 26.0,\n",
       " 29.0,\n",
       " 30.0,\n",
       " 23.0,\n",
       " 18.0,\n",
       " 25.0,\n",
       " 26.0,\n",
       " 19.0,\n",
       " 22.0,\n",
       " 20.0,\n",
       " 26.0,\n",
       " 22.0,\n",
       " 20.0,\n",
       " 27.0,\n",
       " 24.0,\n",
       " 30.0,\n",
       " 26.0,\n",
       " 29.0,\n",
       " 28.0,\n",
       " 23.0,\n",
       " 31.0,\n",
       " 24.0,\n",
       " 27.0,\n",
       " 24.0,\n",
       " 23.0]"
      ]
     },
     "execution_count": 242,
     "metadata": {},
     "output_type": "execute_result"
    }
   ],
   "source": [
    "fitness"
   ]
  },
  {
   "cell_type": "code",
   "execution_count": 243,
   "metadata": {},
   "outputs": [
    {
     "data": {
      "text/plain": [
       "array([7])"
      ]
     },
     "execution_count": 243,
     "metadata": {},
     "output_type": "execute_result"
    }
   ],
   "source": [
    "population[0][np.where(4)]"
   ]
  },
  {
   "cell_type": "code",
   "execution_count": 244,
   "metadata": {},
   "outputs": [
    {
     "data": {
      "text/plain": [
       "array([7, 6, 8, 3, 1, 2, 9, 5, 4])"
      ]
     },
     "execution_count": 244,
     "metadata": {},
     "output_type": "execute_result"
    }
   ],
   "source": [
    "population[0]"
   ]
  },
  {
   "cell_type": "code",
   "execution_count": 245,
   "metadata": {},
   "outputs": [],
   "source": [
    "def crossover(chromo1, chromo2):\n",
    "  \n",
    "  value1 = random.randint(0, c)\n",
    "  value2 = random.randint(0, c)\n",
    "\n",
    "  # Tạo ra 2 child mới\n",
    "  child1 = chromo1\n",
    "  child2 = chromo2\n",
    "\n",
    "  index1 = chromo2[np.where(value1)]\n",
    "  index2 = chromo2[np.where(value2)]\n",
    "\n",
    "  # Sắp xếp lại theo thứ tự trong chrom còn lại\n",
    "  child1[index1-1] = value1\n",
    "  child1[index2-1] = value2\n",
    "\n",
    "  return child1"
   ]
  },
  {
   "cell_type": "code",
   "execution_count": 246,
   "metadata": {},
   "outputs": [],
   "source": [
    "c1 = crossover(population[0], population[1])"
   ]
  },
  {
   "cell_type": "code",
   "execution_count": 247,
   "metadata": {},
   "outputs": [
    {
     "data": {
      "text/plain": [
       "(array([7, 6, 9, 3, 1, 2, 9, 5, 4]), array([1, 6, 2, 4, 5, 7, 9, 3, 5]))"
      ]
     },
     "execution_count": 247,
     "metadata": {},
     "output_type": "execute_result"
    }
   ],
   "source": [
    "c1,c2"
   ]
  },
  {
   "cell_type": "code",
   "execution_count": 248,
   "metadata": {},
   "outputs": [],
   "source": [
    "def mutation(chromo):\n",
    "\n",
    "  # Chọn 2 vị trí đột biến ngẫu nhiên\n",
    "  pos1 = random.randint(0, c-1)\n",
    "  pos2 = random.randint(0, c-1)\n",
    "\n",
    "  # Tạo copy của chromo\n",
    "  new_chromo = chromo\n",
    "\n",
    "  # Lấy giá trị tại 2 vị trí\n",
    "  value1 = new_chromo[pos1]\n",
    "  value2 = new_chromo[pos2]\n",
    "\n",
    "  # Thực hiện đột biến bằng cách đảo vị trí\n",
    "  new_chromo[pos1] = value2\n",
    "  new_chromo[pos2] = value1\n",
    "\n",
    "  return new_chromo"
   ]
  },
  {
   "cell_type": "code",
   "execution_count": 249,
   "metadata": {},
   "outputs": [],
   "source": [
    "a = mutation(population[0])"
   ]
  },
  {
   "cell_type": "code",
   "execution_count": 250,
   "metadata": {},
   "outputs": [
    {
     "data": {
      "text/plain": [
       "array([7, 6, 9, 3, 1, 2, 9, 5, 4])"
      ]
     },
     "execution_count": 250,
     "metadata": {},
     "output_type": "execute_result"
    }
   ],
   "source": [
    "a"
   ]
  },
  {
   "cell_type": "code",
   "execution_count": 251,
   "metadata": {},
   "outputs": [
    {
     "ename": "IndexError",
     "evalue": "list index out of range",
     "output_type": "error",
     "traceback": [
      "\u001b[1;31m---------------------------------------------------------------------------\u001b[0m",
      "\u001b[1;31mIndexError\u001b[0m                                Traceback (most recent call last)",
      "\u001b[1;32m~\\AppData\\Local\\Temp\\ipykernel_10752\\1813926978.py\u001b[0m in \u001b[0;36m<module>\u001b[1;34m\u001b[0m\n\u001b[0;32m     22\u001b[0m     \u001b[0mfitness\u001b[0m \u001b[1;33m=\u001b[0m \u001b[0mfind_fitness\u001b[0m\u001b[1;33m(\u001b[0m\u001b[0mpopulation\u001b[0m\u001b[1;33m)\u001b[0m\u001b[1;33m\u001b[0m\u001b[0m\n\u001b[0;32m     23\u001b[0m \u001b[1;33m\u001b[0m\u001b[0m\n\u001b[1;32m---> 24\u001b[1;33m     \u001b[0mnew_population\u001b[0m \u001b[1;33m=\u001b[0m \u001b[1;33m[\u001b[0m\u001b[0mpopulation\u001b[0m\u001b[1;33m[\u001b[0m\u001b[0mnp\u001b[0m\u001b[1;33m.\u001b[0m\u001b[0margmin\u001b[0m\u001b[1;33m(\u001b[0m\u001b[0mfitness\u001b[0m\u001b[1;33m)\u001b[0m\u001b[1;33m]\u001b[0m\u001b[1;33m]\u001b[0m\u001b[1;33m\u001b[0m\u001b[0m\n\u001b[0m\u001b[0;32m     25\u001b[0m     \u001b[1;32mfor\u001b[0m \u001b[0m_\u001b[0m \u001b[1;32min\u001b[0m \u001b[0mrange\u001b[0m\u001b[1;33m(\u001b[0m\u001b[0mS\u001b[0m \u001b[1;33m-\u001b[0m \u001b[1;36m1\u001b[0m\u001b[1;33m)\u001b[0m\u001b[1;33m:\u001b[0m\u001b[1;33m\u001b[0m\u001b[0m\n\u001b[0;32m     26\u001b[0m         \u001b[0mrandom_index\u001b[0m \u001b[1;33m=\u001b[0m \u001b[0mrandom\u001b[0m\u001b[1;33m.\u001b[0m\u001b[0mrandint\u001b[0m\u001b[1;33m(\u001b[0m\u001b[1;36m0\u001b[0m\u001b[1;33m,\u001b[0m \u001b[0mS\u001b[0m \u001b[1;33m-\u001b[0m \u001b[1;36m1\u001b[0m\u001b[1;33m)\u001b[0m\u001b[1;33m\u001b[0m\u001b[0m\n",
      "\u001b[1;31mIndexError\u001b[0m: list index out of range"
     ]
    }
   ],
   "source": [
    "# Main\n",
    "best_value = float('inf')\n",
    "fitness = []\n",
    "initialize_population()\n",
    "\n",
    "for iter in range(300):\n",
    "\n",
    "    pairs = []\n",
    "    for i in range(S):\n",
    "        if random.random() < p_c:\n",
    "            pairs.append(population[i])\n",
    "\n",
    "    for chromosome in pairs:\n",
    "        chromosome2 = pairs[random.randint(0,len(pairs)-1)]\n",
    "        c1 = crossover(chromosome, chromosome2)\n",
    "        population.append(c1)\n",
    "    \n",
    "    for chromosome in population:\n",
    "        if random.random() < p_m:\n",
    "            mutation(chromosome)\n",
    "    \n",
    "    fitness = find_fitness(population)\n",
    "\n",
    "    new_population = [population[np.argmin(fitness)]]\n",
    "    for _ in range(S - 1):\n",
    "        random_index = random.randint(0, S - 1)\n",
    "        new_population.append(population[random_index])\n",
    "\n",
    "    if min(fitness) < best_value:\n",
    "        best_value = min(fitness)\n",
    "\n",
    "    population = new_population"
   ]
  },
  {
   "cell_type": "code",
   "execution_count": null,
   "metadata": {},
   "outputs": [
    {
     "data": {
      "text/plain": [
       "6.0"
      ]
     },
     "execution_count": 215,
     "metadata": {},
     "output_type": "execute_result"
    }
   ],
   "source": [
    "best_value"
   ]
  }
 ],
 "metadata": {
  "kernelspec": {
   "display_name": "tinyml2",
   "language": "python",
   "name": "python3"
  },
  "language_info": {
   "codemirror_mode": {
    "name": "ipython",
    "version": 3
   },
   "file_extension": ".py",
   "mimetype": "text/x-python",
   "name": "python",
   "nbconvert_exporter": "python",
   "pygments_lexer": "ipython3",
   "version": "3.7.0"
  }
 },
 "nbformat": 4,
 "nbformat_minor": 2
}
