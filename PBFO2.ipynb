{
 "cells": [
  {
   "cell_type": "code",
   "execution_count": 42,
   "metadata": {},
   "outputs": [],
   "source": [
    "import numpy as np\n",
    "import random\n",
    "import math\n",
    "import pandas as pd\n",
    "from sklearn.datasets import load_iris"
   ]
  },
  {
   "cell_type": "code",
   "execution_count": 49,
   "metadata": {},
   "outputs": [],
   "source": [
    "iris = load_iris()\n",
    "X = iris.data\n",
    "y = iris.target"
   ]
  },
  {
   "cell_type": "code",
   "execution_count": 135,
   "metadata": {},
   "outputs": [],
   "source": [
    "Kmax = 3\n",
    "D = X.shape[1]\n",
    "S = 100"
   ]
  },
  {
   "cell_type": "code",
   "execution_count": 29,
   "metadata": {},
   "outputs": [],
   "source": [
    "class Bacteria:\n",
    "   def __init__(self):\n",
    "      self.position = None\n",
    "      self.fitness = None\n",
    "      self.health = None"
   ]
  },
  {
   "cell_type": "code",
   "execution_count": 47,
   "metadata": {},
   "outputs": [
    {
     "data": {
      "text/plain": [
       "array([5.2, 3.5, 1.5, 0.2])"
      ]
     },
     "execution_count": 47,
     "metadata": {},
     "output_type": "execute_result"
    }
   ],
   "source": [
    "X[random.randint(0, len(X))]"
   ]
  },
  {
   "cell_type": "code",
   "execution_count": 94,
   "metadata": {},
   "outputs": [],
   "source": [
    "def encoding(Kmax, D):\n",
    "\n",
    "    # Create a matrix to store the encoded positions.\n",
    "    positions = np.zeros((Kmax, D))\n",
    "\n",
    "    # Encode each position.\n",
    "    for i in range(Kmax):\n",
    "        # Generate a random position.\n",
    "        position = np.random.uniform(0, 9, D)\n",
    "\n",
    "        # Store the position and fitness value in the matrix.\n",
    "        positions[i] = position\n",
    "\n",
    "    return positions"
   ]
  },
  {
   "cell_type": "code",
   "execution_count": 98,
   "metadata": {},
   "outputs": [
    {
     "data": {
      "text/plain": [
       "array([5.1, 3.5, 1.4, 0.2])"
      ]
     },
     "execution_count": 98,
     "metadata": {},
     "output_type": "execute_result"
    }
   ],
   "source": [
    "X[0]"
   ]
  },
  {
   "cell_type": "code",
   "execution_count": 119,
   "metadata": {},
   "outputs": [],
   "source": [
    "cluster1 = X[:50]\n",
    "cluster2 = X[51:100]\n",
    "cluster3 = X[101:150]"
   ]
  },
  {
   "cell_type": "code",
   "execution_count": 132,
   "metadata": {},
   "outputs": [],
   "source": [
    "def objective_function(bacteria):\n",
    "   con = sep = sum = 0\n",
    "   for i in bacteria.position:\n",
    "      for point in cluster1:\n",
    "         dis1 = np.sum(np.linalg.norm(i - point)) / len(cluster1)\n",
    "      for point in cluster2:\n",
    "         dis2 = np.sum(np.linalg.norm(i - point)) / len(cluster2)\n",
    "      for point in cluster3:\n",
    "         dis3 = np.sum(np.linalg.norm(i - point)) / len(cluster3)\n",
    "      con = dis1 + dis2 + dis3\n",
    "   con += con\n",
    "\n",
    "   sep = 1 / (np.linalg.norm(bacteria.position[0] - bacteria.position[1]) + np.linalg.norm(bacteria.position[0] - bacteria.position[2]) + np.linalg.norm(bacteria.position[1] - bacteria.position[2]))\n",
    "\n",
    "   bacteria.fitness = con + sep"
   ]
  },
  {
   "cell_type": "code",
   "execution_count": 144,
   "metadata": {},
   "outputs": [],
   "source": [
    "population = [Bacteria for _ in range(S)]\n",
    "def init_population():\n",
    "   for bacteria in population:\n",
    "      positions = encoding(Kmax=Kmax, D=D)\n",
    "      bacteria.position = positions\n",
    "      objective_function(bacteria)"
   ]
  },
  {
   "cell_type": "code",
   "execution_count": 145,
   "metadata": {},
   "outputs": [],
   "source": [
    "init_population()"
   ]
  },
  {
   "cell_type": "code",
   "execution_count": 147,
   "metadata": {},
   "outputs": [
    {
     "data": {
      "text/plain": [
       "array([[5.41672938, 3.23177343, 4.03438639, 0.37751628],\n",
       "       [5.54526618, 3.26601009, 0.29341273, 5.0104517 ],\n",
       "       [6.40556922, 6.26234023, 7.08529113, 8.31747748]])"
      ]
     },
     "execution_count": 147,
     "metadata": {},
     "output_type": "execute_result"
    }
   ],
   "source": [
    "population[0].position"
   ]
  },
  {
   "cell_type": "code",
   "execution_count": 146,
   "metadata": {},
   "outputs": [
    {
     "data": {
      "text/plain": [
       "1.1127010998444575"
      ]
     },
     "execution_count": 146,
     "metadata": {},
     "output_type": "execute_result"
    }
   ],
   "source": [
    "population[0].fitness"
   ]
  },
  {
   "cell_type": "code",
   "execution_count": null,
   "metadata": {},
   "outputs": [],
   "source": [
    "def es_estimation(archive, nobj):\n",
    "\n",
    "  minH = np.inf\n",
    "  flag = 0\n",
    "  count_state = 0\n",
    "\n",
    "  # Calculate distances from ideal point\n",
    "  # distances = get_distances_from_ideal(archive) \n",
    "  for bacteria in archive:\n",
    "   #  distances = [(bacteria)] \n",
    "\n",
    "#   minA = min(distances)\n",
    "\n",
    "  if flag == 0:\n",
    "\n",
    "    if minH <= minA: # Situation 1\n",
    "      count_state += 1\n",
    "      \n",
    "      if count_state >= nobj**2:\n",
    "        flag = 1  \n",
    "\n",
    "    else: # Situation 2\n",
    "      minH = minA  \n",
    "      count_state = 0\n",
    "\n",
    "  else:\n",
    "    \n",
    "    if minH >= minA: # Situation 3\n",
    "      count_state = 0\n",
    "      flag = 0\n",
    "      minH = minA\n",
    "\n",
    "  return minH, flag, count_state"
   ]
  },
  {
   "cell_type": "code",
   "execution_count": null,
   "metadata": {},
   "outputs": [],
   "source": [
    "min_val = [4.3, 2, 1, 0.1]\n",
    "max_val = [7.9, 4.4, 6.9, 2.5]"
   ]
  },
  {
   "cell_type": "code",
   "execution_count": null,
   "metadata": {},
   "outputs": [],
   "source": [
    "def select_gbests(archive, ideal_point):\n",
    "\n",
    "  archive_size = len(archive)\n",
    "  \n",
    "  # Normalize objectives and calculate distances\n",
    "  # normalize_archive(archive)  \n",
    "  for bacterium in archive:\n",
    "    distances = [find_Euclidean(bacterium, ideal_point)]\n",
    "\n",
    "  # Select c_gbest\n",
    "  c_gbest = archive[np.argmin(distances)]\n",
    "\n",
    "  # Get crowding distances \n",
    "  # crowding_dists = crowding_distance(archive)\n",
    "\n",
    "  # Sort by crowding distance  \n",
    "  sorted_inds = np.argsort(crowding_dists)[::-1]  \n",
    "\n",
    "  if archive_size >= 4:\n",
    "\n",
    "    # Select first 4 non-dominated solutions\n",
    "    # d_gbest_options = get_nondominated(archive, 4) \n",
    "    d_gbest_options = archive[:4]\n",
    "\n",
    "    r = random.random()\n",
    "    if r <= 0.25:\n",
    "      d_gbest = d_gbest_options[0]\n",
    "    elif r <= 0.5:  \n",
    "      d_gbest = d_gbest_options[1]\n",
    "    elif r <= 0.75:\n",
    "      d_gbest = d_gbest_options[2]  \n",
    "    else:  \n",
    "      d_gbest = d_gbest_options[3]\n",
    "\n",
    "  else:\n",
    "    d_gbest = d_gbest_options[0]\n",
    "\n",
    "  return c_gbest, d_gbest"
   ]
  },
  {
   "cell_type": "code",
   "execution_count": null,
   "metadata": {},
   "outputs": [],
   "source": [
    "def select_pbest_leader(population):\n",
    "\n",
    "  num_bacteria = len(population)\n",
    "  pbest = [bact.position for bact in population] # get all pbest\n",
    "\n",
    "  # Separately sort the 2 objectives of all pbest\n",
    "  obj1_vals = [p[0] for p in pbest] \n",
    "  obj2_vals = [p[1] for p in pbest]\n",
    "\n",
    "  sorted_obj1 = sorted(obj1_vals)\n",
    "  sorted_inds1 = sorted(range(len(obj1_vals)), key=obj1_vals.__getitem__)\n",
    "\n",
    "  sorted_obj2 = sorted(obj2_vals) \n",
    "  sorted_inds2 = sorted(range(len(obj2_vals)), key=obj2_vals.__getitem__)\n",
    "\n",
    "  if random.random() < 0.5:\n",
    "    sorted_pbest = sorted_obj1\n",
    "    sorted_inds = sorted_inds1\n",
    "  else:  \n",
    "    sorted_pbest = sorted_obj2\n",
    "    sorted_inds = sorted_inds2\n",
    "\n",
    "  # Map sorted pbest to each bacterium\n",
    "  learned_pbest = []\n",
    "  for i in range(num_bacteria):\n",
    "    pos = sorted_inds.index(i)  \n",
    "    learned_pbest.append(sorted_pbest[pos])\n",
    "\n",
    "  # Randomly select one as pbest leader  \n",
    "  pbest_leader_idx = random.randint(0,num_bacteria-1)\n",
    "  # pbest_leader = learned_pbest[pbest_leader_idx]\n",
    "  pbest_leader = population[pbest_leader_idx]\n",
    "\n",
    "  return pbest_leader"
   ]
  },
  {
   "cell_type": "code",
   "execution_count": null,
   "metadata": {},
   "outputs": [],
   "source": [
    "def tumble(pbest_leader, gbest, bacterium, iter = 1):\n",
    "    step_direction = c1 * random.random() * (pbest_leader.position[:-1] - bacterium.position[:-1]) + c2 * random.random() * (gbest.position[:-1] - bacterium.position[:-1]) * random.choice((-1, 1))\n",
    "    \n",
    "    C = c_min + math.exp(-cc * ((iter / N_s) ** 2)) * (c_max - c_min)\n",
    "\n",
    "    bacterium.position[:-1] = bacterium.position[:-1] + C * step_direction\n",
    "\n",
    "    # bacterium.step_direction = step_direction\n",
    "    bacterium.step_size = C\n",
    "    objective_function(bacterium)"
   ]
  },
  {
   "cell_type": "code",
   "execution_count": null,
   "metadata": {},
   "outputs": [],
   "source": [
    "def swim(bacterium, pbest_leader, gbest):\n",
    "    global best_value\n",
    "    step_direction = c1 * random.random() * (pbest_leader.position[:-1]- bacterium.position[:-1]) + c2 * random.random() * (gbest.position[:-1] - bacterium.position[:-1])\n",
    "    bacterium.position[:-1] = bacterium.position[:-1] + bacterium.step_size * step_direction\n",
    "    for i in range(N_s):\n",
    "        if bacterium.cost <= best_value:\n",
    "            bacterium.position[:-1] = bacterium.position[:-1] + bacterium.step_size * step_direction\n",
    "            objective_function(bacterium)\n",
    "        else:\n",
    "            break"
   ]
  },
  {
   "cell_type": "code",
   "execution_count": null,
   "metadata": {},
   "outputs": [],
   "source": [
    "def chemotaxis(gbest, iter):\n",
    "    global best_value, best_position, population\n",
    "\n",
    "    for bacterium in population:\n",
    "        pbest_leader = select_pbest_leader(population)\n",
    "        tumble(pbest_leader,gbest, bacterium, iter)\n",
    "        if bacterium.cost <= best_value:\n",
    "            bacterium.pbest = bacterium.position\n",
    "        last_cost = bacterium.cost\n",
    "        swim(bacterium, pbest_leader, gbest)        \n",
    "        if bacterium.cost <= last_cost:\n",
    "            for i in range(N_s):\n",
    "                swim(bacterium, pbest_leader, gbest)\n",
    "                bacterium.pbest = bacterium.position\n",
    "    \n",
    "        objective_function(bacterium)\n",
    "\n",
    "        if bacterium.cost <= best_value:\n",
    "            best_value = bacterium.cost\n",
    "            best_position = bacterium.position\n",
    "        # if bacterium.cost > best_value:\n",
    "        #     bacterium.cost = best_value\n",
    "        #     bacterium.position = best_position"
   ]
  },
  {
   "cell_type": "code",
   "execution_count": null,
   "metadata": {},
   "outputs": [],
   "source": [
    "def get_nondominated(population):\n",
    "  \n",
    "  nondominated = []\n",
    "  \n",
    "  # Compare each bacterium to others\n",
    "  for i in range(len(population)):\n",
    "    \n",
    "    bacterium_i = population[i]\n",
    "    is_nondominated = True\n",
    "    \n",
    "    # Compare bacterium i to all others    \n",
    "    for j in range(len(population)):\n",
    "      \n",
    "      if i == j:\n",
    "        continue\n",
    "      \n",
    "      bacterium_j = population[j]\n",
    "      \n",
    "      # If bacterium j has equal or better objective\n",
    "      if bacterium_j.cost <= bacterium_i.cost:\n",
    "        is_nondominated = False\n",
    "        break\n",
    "        \n",
    "    # Bacterium i is nondominated against all others      \n",
    "    if is_nondominated:\n",
    "      nondominated.append(bacterium_i)\n",
    "      \n",
    "  return nondominated"
   ]
  },
  {
   "cell_type": "code",
   "execution_count": null,
   "metadata": {},
   "outputs": [],
   "source": [
    "def get_dominated(population):\n",
    "\n",
    "  dominated = []\n",
    "\n",
    "  nondominated = get_nondominated(population)\n",
    "\n",
    "  # Compare each bacterium to get nondominated\n",
    "  for bacterium in population:\n",
    "\n",
    "    is_dominated = True\n",
    "\n",
    "    # Check if bacterium is in nondominated list\n",
    "    if bacterium in nondominated:\n",
    "      continue\n",
    "\n",
    "    # Compare bacterium to all nondominated\n",
    "    for nd_bacterium in nondominated:  \n",
    "\n",
    "      if bacterium.cost > nd_bacterium.cost:\n",
    "        is_dominated = True\n",
    "        break\n",
    "\n",
    "    # Bacterium is dominated by at least one nondom\n",
    "    if is_dominated:\n",
    "      dominated.append(bacterium)\n",
    "\n",
    "  return dominated"
   ]
  },
  {
   "cell_type": "code",
   "execution_count": null,
   "metadata": {},
   "outputs": [],
   "source": [
    "def reproduction_strategy(population, archive):\n",
    "  \n",
    "  # Get non-dominated solutions from archive and bacteria \n",
    "  nondom_archive = get_nondominated(archive) \n",
    "  nondom_bacteria = get_nondominated(population)\n",
    "  \n",
    "  Sum_nondom = len(nondom_archive) + len(nondom_bacteria)\n",
    "  \n",
    "  if Sum_nondom < len(population): # Situation 1\n",
    "    \n",
    "    BS1 = nondom_archive \n",
    "    BS2 = nondom_bacteria\n",
    "    \n",
    "    # Sort dominated bacteria and select some\n",
    "    dominated = get_dominated(population)\n",
    "    cost = [dominated[i].cost for i in range(len(dominated))] \n",
    "    sorted_indices = sorted(range(len(cost)), key=cost.__getitem__)\n",
    "    new_dominated = [dominated[i] for i in sorted_indices]\n",
    "    dominated = new_dominated.copy()\n",
    "    \n",
    "    BS3 = random.sample(dominated, len(population) - Sum_nondom)\n",
    "    \n",
    "    new_BS = BS1 + BS2 + BS3\n",
    "    \n",
    "  elif len(nondom_archive) < len(population): # Situation 2\n",
    "\n",
    "    BS1 = nondom_archive\n",
    "    BS2 = random.sample(nondom_bacteria, len(population) - len(nondom_archive))\n",
    "    new_BS = BS1 + BS2\n",
    "    \n",
    "  else: # Situation 3\n",
    "\n",
    "    BS1 = random.sample(nondom_archive, len(population))\n",
    "    new_BS = BS1\n",
    "    \n",
    "  # Reproduce and return new swarm\n",
    "  parents = new_BS[:len(new_BS)//2] \n",
    "  offspring = parents.copy()\n",
    "  return new_BS + offspring"
   ]
  },
  {
   "cell_type": "code",
   "execution_count": null,
   "metadata": {},
   "outputs": [],
   "source": [
    "def elimination_dispersal_BS(population, Ped):\n",
    "\n",
    "  dim = len(population[0].position[:-1]) # dimension of each bacterium\n",
    "\n",
    "  for i in range(len(population)):\n",
    "\n",
    "    bacterium = population[i]\n",
    "\n",
    "    if random.random() < Ped: \n",
    "      \n",
    "      # Disperse bacterium location\n",
    "      bacterium.position[:-1] = [min_val[j] + random.random() * (max_val[j]-min_val[j]) for j in range(dim)]\n",
    "      \n",
    "      # Limit to bounds and recalculate objective  \n",
    "      bacterium.position[:-1] = [min(max(x,min_val[j]),max_val[j]) for j,x in enumerate(bacterium.position[:-1])]\n",
    "      bacterium.cost = objective_function(bacterium)"
   ]
  }
 ],
 "metadata": {
  "kernelspec": {
   "display_name": "NLP",
   "language": "python",
   "name": "python3"
  },
  "language_info": {
   "codemirror_mode": {
    "name": "ipython",
    "version": 3
   },
   "file_extension": ".py",
   "mimetype": "text/x-python",
   "name": "python",
   "nbconvert_exporter": "python",
   "pygments_lexer": "ipython3",
   "version": "3.9.0"
  }
 },
 "nbformat": 4,
 "nbformat_minor": 2
}
