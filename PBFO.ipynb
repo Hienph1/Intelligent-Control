{
 "cells": [
  {
   "cell_type": "code",
   "execution_count": 1,
   "metadata": {},
   "outputs": [],
   "source": [
    "import numpy as np\n",
    "import pandas as pd\n",
    "import math\n",
    "import random"
   ]
  },
  {
   "cell_type": "code",
   "execution_count": 70,
   "metadata": {},
   "outputs": [],
   "source": [
    "dimension = 4\n",
    "S = 100\n",
    "Sr = S/2\n",
    "N_s = 4\n",
    "N_re = 5\n",
    "N_ed = 2\n",
    "P_ed = 0.25\n",
    "c_max = 1.5\n",
    "c_min = 0.01\n",
    "cc = 2\n",
    "c1 = 1\n",
    "c2 = 3\n",
    "runtimes = 5\n",
    "MaxIter = 10\n",
    "F_re = 2"
   ]
  },
  {
   "cell_type": "code",
   "execution_count": 69,
   "metadata": {},
   "outputs": [],
   "source": [
    "best_position = []\n",
    "best_value = float('inf')"
   ]
  },
  {
   "cell_type": "code",
   "execution_count": 30,
   "metadata": {},
   "outputs": [],
   "source": [
    "dataset = pd.read_csv('iris.csv')"
   ]
  },
  {
   "cell_type": "code",
   "execution_count": 179,
   "metadata": {},
   "outputs": [
    {
     "data": {
      "text/plain": [
       "sepal.length       5.1\n",
       "sepal.width        3.5\n",
       "petal.length       1.4\n",
       "petal.width        0.2\n",
       "variety         Setosa\n",
       "Name: 0, dtype: object"
      ]
     },
     "execution_count": 179,
     "metadata": {},
     "output_type": "execute_result"
    }
   ],
   "source": [
    "# dataset.iloc[0]"
   ]
  },
  {
   "cell_type": "code",
   "execution_count": 4,
   "metadata": {},
   "outputs": [],
   "source": [
    "class Bacterium:\n",
    "  def __init__(self):\n",
    "    self.position = None \n",
    "    self.cost = None\n",
    "    self.fitness = None\n",
    "    self.health = None\n",
    "    self.step_size = None\n",
    "    self.direction = None\n",
    "    self.pbest = None"
   ]
  },
  {
   "cell_type": "code",
   "execution_count": 76,
   "metadata": {},
   "outputs": [],
   "source": [
    "population = [Bacterium() for _ in range(S)]"
   ]
  },
  {
   "cell_type": "code",
   "execution_count": 67,
   "metadata": {},
   "outputs": [],
   "source": [
    "def objective_function(bacterium):\n",
    "    global best_value, best_position\n",
    "    con = sep = 0\n",
    "    # find compactness\n",
    "    for i in range(S):\n",
    "        con += np.sqrt(np.sum(bacterium.position[:-1] - population[i].position[:-1]) ** 2) / dimension\n",
    "\n",
    "    # find separateness\n",
    "    for centroid in bacterium.position[:-1]:\n",
    "        sep = 1 / np.sum([centroid - other for other in bacterium.position[:-1]])\n",
    "    \n",
    "    bacterium.cost = abs(con + sep)\n",
    "    if bacterium.cost < best_value:\n",
    "        best_value = bacterium.cost\n",
    "        best_position = bacterium.position.copy()\n",
    "        # bacterium.pbest = bacterium.position"
   ]
  },
  {
   "cell_type": "code",
   "execution_count": 7,
   "metadata": {},
   "outputs": [],
   "source": [
    "def initialize_population():\n",
    "    for bacterium in population:\n",
    "        index = random.randint(0,S)\n",
    "        bacterium.position = np.append(dataset.iloc[index][:-1].copy(), random.random())\n",
    "\n",
    "        # objective_function(bacterium)\n",
    "        bacterium.health = 0\n",
    "        bacterium.fitness = 0\n",
    "        bacterium.pbest = bacterium.position"
   ]
  },
  {
   "cell_type": "code",
   "execution_count": 89,
   "metadata": {},
   "outputs": [],
   "source": [
    "# initialize_population()"
   ]
  },
  {
   "cell_type": "code",
   "execution_count": 78,
   "metadata": {},
   "outputs": [
    {
     "data": {
      "text/plain": [
       "array([5.0, 3.5, 1.6, 0.6, 0.6869160921204245], dtype=object)"
      ]
     },
     "execution_count": 78,
     "metadata": {},
     "output_type": "execute_result"
    }
   ],
   "source": [
    "# population[0].position"
   ]
  },
  {
   "cell_type": "code",
   "execution_count": 90,
   "metadata": {},
   "outputs": [],
   "source": [
    "# for i in range(S):\n",
    "#     objective_function(population[i])"
   ]
  },
  {
   "cell_type": "code",
   "execution_count": 8,
   "metadata": {},
   "outputs": [],
   "source": [
    "def find_Euclidean_origin(bacterium):\n",
    "    sum_of_squares = 0\n",
    "    for i in range(len(bacterium.position[:-1])):\n",
    "        sum_of_squares += (bacterium.position[i] - 0) ** 2\n",
    "    distance = math.sqrt(sum_of_squares)\n",
    "    return distance"
   ]
  },
  {
   "cell_type": "code",
   "execution_count": 10,
   "metadata": {},
   "outputs": [],
   "source": [
    "def find_Euclidean(bacterium, point = [0,0,0,0]):\n",
    "    sum_of_squares = 0\n",
    "    for i in range(len(bacterium.position[:-1])):\n",
    "        sum_of_squares += (bacterium.position[i] - point[i]) ** 2\n",
    "    distance = math.sqrt(sum_of_squares)\n",
    "    return distance"
   ]
  },
  {
   "cell_type": "code",
   "execution_count": 107,
   "metadata": {},
   "outputs": [],
   "source": [
    "# archive = []\n",
    "\n",
    "# distances = [find_Euclidean_origin(population[i]) for i in range(S)]\n",
    "# sorted_indices = sorted(range(len(distances)), key=distances.__getitem__)\n",
    "# for index in sorted_indices:\n",
    "#     archive.append(population[index])"
   ]
  },
  {
   "cell_type": "code",
   "execution_count": 108,
   "metadata": {},
   "outputs": [
    {
     "data": {
      "text/plain": [
       "array([4.3, 3.0, 1.1, 0.1, 0.8938346970420608], dtype=object)"
      ]
     },
     "execution_count": 108,
     "metadata": {},
     "output_type": "execute_result"
    }
   ],
   "source": [
    "# archive[0].position"
   ]
  },
  {
   "cell_type": "code",
   "execution_count": 11,
   "metadata": {},
   "outputs": [],
   "source": [
    "def es_estimation(archive, nobj):\n",
    "\n",
    "  minH = np.inf\n",
    "  flag = 0\n",
    "  count_state = 0\n",
    "\n",
    "  # Calculate distances from ideal point\n",
    "  # distances = get_distances_from_ideal(archive) \n",
    "  for bacteria in archive:\n",
    "    distances = [find_Euclidean_origin(bacteria)] \n",
    "\n",
    "  minA = min(distances)\n",
    "\n",
    "  if flag == 0:\n",
    "\n",
    "    if minH <= minA: # Situation 1\n",
    "      count_state += 1\n",
    "      \n",
    "      if count_state >= nobj**2:\n",
    "        flag = 1  \n",
    "\n",
    "    else: # Situation 2\n",
    "      minH = minA  \n",
    "      count_state = 0\n",
    "\n",
    "  else:\n",
    "    \n",
    "    if minH >= minA: # Situation 3\n",
    "      count_state = 0\n",
    "      flag = 0\n",
    "      minH = minA\n",
    "\n",
    "  return minH, flag, count_state"
   ]
  },
  {
   "cell_type": "code",
   "execution_count": 277,
   "metadata": {},
   "outputs": [],
   "source": [
    "# minH, flag, count_state = es_estimation(archive, nobj=1)"
   ]
  },
  {
   "cell_type": "code",
   "execution_count": 278,
   "metadata": {},
   "outputs": [
    {
     "data": {
      "text/plain": [
       "0"
      ]
     },
     "execution_count": 278,
     "metadata": {},
     "output_type": "execute_result"
    }
   ],
   "source": [
    "# flag"
   ]
  },
  {
   "cell_type": "code",
   "execution_count": 32,
   "metadata": {},
   "outputs": [],
   "source": [
    "min_val = [4.3, 2, 1, 0.1]\n",
    "max_val = [7.9, 4.4, 6.9, 2.5]"
   ]
  },
  {
   "cell_type": "code",
   "execution_count": 103,
   "metadata": {},
   "outputs": [],
   "source": [
    "# ideal_point = best_position"
   ]
  },
  {
   "cell_type": "code",
   "execution_count": 104,
   "metadata": {},
   "outputs": [
    {
     "data": {
      "text/plain": [
       "array([5.2, 2.7, 3.9, 1.4, 0.42887984505962906], dtype=object)"
      ]
     },
     "execution_count": 104,
     "metadata": {},
     "output_type": "execute_result"
    }
   ],
   "source": [
    "# best_position"
   ]
  },
  {
   "cell_type": "code",
   "execution_count": 12,
   "metadata": {},
   "outputs": [],
   "source": [
    "def crowding_distance(archive):\n",
    "\n",
    "  n_obj = len(archive[0].position[:-1]) # number of objectives\n",
    "  n_sol = len(archive) # number of solutions\n",
    "  \n",
    "  # Initialize distances\n",
    "  crowding_dist = np.zeros(n_sol)  \n",
    "  \n",
    "  # Calculate for each objective\n",
    "  for i in range(n_obj):\n",
    "  \n",
    "    # Sort by objective i\n",
    "    # archive_sorted = sorted(archive, key=lambda x: x[i])  \n",
    "\n",
    "    # Set boundary distances to infinity\n",
    "    crowding_dist[0] = np.inf\n",
    "    crowding_dist[-1] = np.inf\n",
    "\n",
    "    # Calculate other distances    \n",
    "    for k in range(1,n_sol-1):\n",
    "\n",
    "      d_right = archive[k+1].position[i] - archive[k].position[i] \n",
    "      d_left = archive[k].position[i] - archive[k-1].position[i]\n",
    "      \n",
    "      crowding_dist[k] += (d_right + d_left) / (max_val[i] - min_val[i])\n",
    "\n",
    "  # Normalize over objectives    \n",
    "  crowding_dist = crowding_dist / n_obj\n",
    "\n",
    "  return crowding_dist"
   ]
  },
  {
   "cell_type": "code",
   "execution_count": 250,
   "metadata": {},
   "outputs": [
    {
     "data": {
      "text/plain": [
       "<__main__.Bacterium at 0x1814c1737f0>"
      ]
     },
     "execution_count": 250,
     "metadata": {},
     "output_type": "execute_result"
    }
   ],
   "source": [
    "# archive[0]"
   ]
  },
  {
   "cell_type": "code",
   "execution_count": 251,
   "metadata": {},
   "outputs": [
    {
     "data": {
      "text/plain": [
       "array([5.5, 2.3, 4.0, 1.3, 0.4789604886025518], dtype=object)"
      ]
     },
     "execution_count": 251,
     "metadata": {},
     "output_type": "execute_result"
    }
   ],
   "source": [
    "# ideal_point"
   ]
  },
  {
   "cell_type": "code",
   "execution_count": 13,
   "metadata": {},
   "outputs": [],
   "source": [
    "def select_gbests(archive, ideal_point):\n",
    "\n",
    "  archive_size = len(archive)\n",
    "  \n",
    "  # Normalize objectives and calculate distances\n",
    "  # normalize_archive(archive)  \n",
    "  for bacterium in archive:\n",
    "    distances = [find_Euclidean(bacterium, ideal_point)]\n",
    "\n",
    "  # Select c_gbest\n",
    "  c_gbest = archive[np.argmin(distances)]\n",
    "\n",
    "  # Get crowding distances \n",
    "  crowding_dists = crowding_distance(archive)\n",
    "\n",
    "  # Sort by crowding distance  \n",
    "  sorted_inds = np.argsort(crowding_dists)[::-1]  \n",
    "\n",
    "  if archive_size >= 4:\n",
    "\n",
    "    # Select first 4 non-dominated solutions\n",
    "    # d_gbest_options = get_nondominated(archive, 4) \n",
    "    d_gbest_options = archive[:4]\n",
    "\n",
    "    r = random.random()\n",
    "    if r <= 0.25:\n",
    "      d_gbest = d_gbest_options[0]\n",
    "    elif r <= 0.5:  \n",
    "      d_gbest = d_gbest_options[1]\n",
    "    elif r <= 0.75:\n",
    "      d_gbest = d_gbest_options[2]  \n",
    "    else:  \n",
    "      d_gbest = d_gbest_options[3]\n",
    "\n",
    "  else:\n",
    "    d_gbest = d_gbest_options[0]\n",
    "\n",
    "  return c_gbest, d_gbest"
   ]
  },
  {
   "cell_type": "code",
   "execution_count": 109,
   "metadata": {},
   "outputs": [],
   "source": [
    "# c_gbest, d_gbest = select_gbests(archive, ideal_point)"
   ]
  },
  {
   "cell_type": "code",
   "execution_count": 110,
   "metadata": {},
   "outputs": [
    {
     "data": {
      "text/plain": [
       "array([4.3, 3.0, 1.1, 0.1, 0.8938346970420608], dtype=object)"
      ]
     },
     "execution_count": 110,
     "metadata": {},
     "output_type": "execute_result"
    }
   ],
   "source": [
    "# c_gbest.position"
   ]
  },
  {
   "cell_type": "code",
   "execution_count": 14,
   "metadata": {},
   "outputs": [],
   "source": [
    "def select_pbest_leader(population):\n",
    "\n",
    "  num_bacteria = len(population)\n",
    "  pbest = [bact.position for bact in population] # get all pbest\n",
    "\n",
    "  # Separately sort the 2 objectives of all pbest\n",
    "  obj1_vals = [p[0] for p in pbest] \n",
    "  obj2_vals = [p[1] for p in pbest]\n",
    "\n",
    "  sorted_obj1 = sorted(obj1_vals)\n",
    "  sorted_inds1 = sorted(range(len(obj1_vals)), key=obj1_vals.__getitem__)\n",
    "\n",
    "  sorted_obj2 = sorted(obj2_vals) \n",
    "  sorted_inds2 = sorted(range(len(obj2_vals)), key=obj2_vals.__getitem__)\n",
    "\n",
    "  if random.random() < 0.5:\n",
    "    sorted_pbest = sorted_obj1\n",
    "    sorted_inds = sorted_inds1\n",
    "  else:  \n",
    "    sorted_pbest = sorted_obj2\n",
    "    sorted_inds = sorted_inds2\n",
    "\n",
    "  # Map sorted pbest to each bacterium\n",
    "  learned_pbest = []\n",
    "  for i in range(num_bacteria):\n",
    "    pos = sorted_inds.index(i)  \n",
    "    learned_pbest.append(sorted_pbest[pos])\n",
    "\n",
    "  # Randomly select one as pbest leader  \n",
    "  pbest_leader_idx = random.randint(0,num_bacteria-1)\n",
    "  # pbest_leader = learned_pbest[pbest_leader_idx]\n",
    "  pbest_leader = population[pbest_leader_idx]\n",
    "\n",
    "  return pbest_leader"
   ]
  },
  {
   "cell_type": "code",
   "execution_count": 80,
   "metadata": {},
   "outputs": [],
   "source": [
    "# pbest_leader = select_pbest_leader(population)"
   ]
  },
  {
   "cell_type": "code",
   "execution_count": 81,
   "metadata": {},
   "outputs": [
    {
     "data": {
      "text/plain": [
       "array([4.3, 3.0, 1.1, 0.1, 0.16757838263070224], dtype=object)"
      ]
     },
     "execution_count": 81,
     "metadata": {},
     "output_type": "execute_result"
    }
   ],
   "source": [
    "# pbest_leader.position"
   ]
  },
  {
   "cell_type": "code",
   "execution_count": 112,
   "metadata": {},
   "outputs": [],
   "source": [
    "# if flag == '0':\n",
    "#     gbest = c_gbest\n",
    "# else:\n",
    "#     gbest = d_gbest"
   ]
  },
  {
   "cell_type": "code",
   "execution_count": 113,
   "metadata": {},
   "outputs": [
    {
     "data": {
      "text/plain": [
       "array([4.4, 3.2, 1.3, 0.2, 0.8557687982753414], dtype=object)"
      ]
     },
     "execution_count": 113,
     "metadata": {},
     "output_type": "execute_result"
    }
   ],
   "source": [
    "# gbest.position"
   ]
  },
  {
   "cell_type": "code",
   "execution_count": 15,
   "metadata": {},
   "outputs": [],
   "source": [
    "def tumble(pbest_leader, gbest, bacterium, iter = 1):\n",
    "    step_direction = c1 * random.random() * (pbest_leader.position[:-1] - bacterium.position[:-1]) + c2 * random.random() * (gbest.position[:-1] - bacterium.position[:-1]) * random.choice((-1, 1))\n",
    "    \n",
    "    C = c_min + math.exp(-cc * ((iter / N_s) ** 2)) * (c_max - c_min)\n",
    "\n",
    "    bacterium.position[:-1] = bacterium.position[:-1] + C * step_direction\n",
    "\n",
    "    # bacterium.step_direction = step_direction\n",
    "    bacterium.step_size = C\n",
    "    objective_function(bacterium)"
   ]
  },
  {
   "cell_type": "code",
   "execution_count": 114,
   "metadata": {},
   "outputs": [
    {
     "data": {
      "text/plain": [
       "array([6.1, 2.9, 4.7, 1.4], dtype=object)"
      ]
     },
     "execution_count": 114,
     "metadata": {},
     "output_type": "execute_result"
    }
   ],
   "source": [
    "# pbest_leader.position[:-1]"
   ]
  },
  {
   "cell_type": "code",
   "execution_count": 91,
   "metadata": {},
   "outputs": [
    {
     "data": {
      "text/plain": [
       "array([5.6, 2.7, 4.2, 1.3], dtype=object)"
      ]
     },
     "execution_count": 91,
     "metadata": {},
     "output_type": "execute_result"
    }
   ],
   "source": [
    "# population[0].position[:-1]"
   ]
  },
  {
   "cell_type": "code",
   "execution_count": 98,
   "metadata": {},
   "outputs": [
    {
     "data": {
      "text/plain": [
       "array([nan, nan, nan, nan], dtype=object)"
      ]
     },
     "execution_count": 98,
     "metadata": {},
     "output_type": "execute_result"
    }
   ],
   "source": [
    "# gbest.position[:-1]"
   ]
  },
  {
   "cell_type": "code",
   "execution_count": 97,
   "metadata": {},
   "outputs": [
    {
     "data": {
      "text/plain": [
       "array([0.5, 0.19999999999999973, 0.5, 0.09999999999999987], dtype=object)"
      ]
     },
     "execution_count": 97,
     "metadata": {},
     "output_type": "execute_result"
    }
   ],
   "source": [
    "# pbest_leader.position[:-1] - population[0].position[:-1]"
   ]
  },
  {
   "cell_type": "code",
   "execution_count": 94,
   "metadata": {},
   "outputs": [
    {
     "data": {
      "text/plain": [
       "0.8712807831388374"
      ]
     },
     "execution_count": 94,
     "metadata": {},
     "output_type": "execute_result"
    }
   ],
   "source": [
    "# c1 * random.random()"
   ]
  },
  {
   "cell_type": "code",
   "execution_count": 95,
   "metadata": {},
   "outputs": [
    {
     "data": {
      "text/plain": [
       "2.6259577992783765"
      ]
     },
     "execution_count": 95,
     "metadata": {},
     "output_type": "execute_result"
    }
   ],
   "source": [
    "# c2 * random.random()"
   ]
  },
  {
   "cell_type": "code",
   "execution_count": 115,
   "metadata": {},
   "outputs": [
    {
     "data": {
      "text/plain": [
       "array([-1.2080893334361293, 0.5316753136017156, -2.9686493128845846,\n",
       "       -1.1322540915846795], dtype=object)"
      ]
     },
     "execution_count": 115,
     "metadata": {},
     "output_type": "execute_result"
    }
   ],
   "source": [
    "# c1 * random.random() * (pbest_leader.position[:-1] - population[0].position[:-1]) + c2 * random.random() * (gbest.position[:-1] - population[0].position[:-1])"
   ]
  },
  {
   "cell_type": "code",
   "execution_count": null,
   "metadata": {},
   "outputs": [],
   "source": [
    "# tumble(pbest_leader, population[0], iter = 1)"
   ]
  },
  {
   "cell_type": "code",
   "execution_count": 83,
   "metadata": {},
   "outputs": [
    {
     "data": {
      "text/plain": [
       "array([nan, nan, nan, nan, 0.6869160921204245], dtype=object)"
      ]
     },
     "execution_count": 83,
     "metadata": {},
     "output_type": "execute_result"
    }
   ],
   "source": [
    "# population[0].position"
   ]
  },
  {
   "cell_type": "code",
   "execution_count": 17,
   "metadata": {},
   "outputs": [],
   "source": [
    "def swim(bacterium, pbest_leader, gbest):\n",
    "    global best_value\n",
    "    step_direction = c1 * random.random() * (pbest_leader.position[:-1]- bacterium.position[:-1]) + c2 * random.random() * (gbest.position[:-1] - bacterium.position[:-1])\n",
    "    bacterium.position[:-1] = bacterium.position[:-1] + bacterium.step_size * step_direction\n",
    "    for i in range(N_s):\n",
    "        if bacterium.cost <= best_value:\n",
    "            bacterium.position[:-1] = bacterium.position[:-1] + bacterium.step_size * step_direction\n",
    "            objective_function(bacterium)\n",
    "        else:\n",
    "            break"
   ]
  },
  {
   "cell_type": "code",
   "execution_count": 72,
   "metadata": {},
   "outputs": [],
   "source": [
    "def chemotaxis(gbest, iter):\n",
    "    global best_value, best_position, population\n",
    "\n",
    "    for bacterium in population:\n",
    "        pbest_leader = select_pbest_leader(population)\n",
    "        tumble(pbest_leader,gbest, bacterium, iter)\n",
    "        if bacterium.cost <= best_value:\n",
    "            bacterium.pbest = bacterium.position\n",
    "        last_cost = bacterium.cost\n",
    "        swim(bacterium, pbest_leader, gbest)        \n",
    "        if bacterium.cost <= last_cost:\n",
    "            for i in range(N_s):\n",
    "                swim(bacterium, pbest_leader, gbest)\n",
    "                bacterium.pbest = bacterium.position\n",
    "    \n",
    "        objective_function(bacterium)\n",
    "\n",
    "        if bacterium.cost <= best_value:\n",
    "            best_value = bacterium.cost\n",
    "            best_position = bacterium.position\n",
    "        # if bacterium.cost > best_value:\n",
    "        #     bacterium.cost = best_value\n",
    "        #     bacterium.position = best_position"
   ]
  },
  {
   "cell_type": "code",
   "execution_count": 19,
   "metadata": {},
   "outputs": [],
   "source": [
    "def get_nondominated(population):\n",
    "  \n",
    "  nondominated = []\n",
    "  \n",
    "  # Compare each bacterium to others\n",
    "  for i in range(len(population)):\n",
    "    \n",
    "    bacterium_i = population[i]\n",
    "    is_nondominated = True\n",
    "    \n",
    "    # Compare bacterium i to all others    \n",
    "    for j in range(len(population)):\n",
    "      \n",
    "      if i == j:\n",
    "        continue\n",
    "      \n",
    "      bacterium_j = population[j]\n",
    "      \n",
    "      # If bacterium j has equal or better objective\n",
    "      if bacterium_j.cost <= bacterium_i.cost:\n",
    "        is_nondominated = False\n",
    "        break\n",
    "        \n",
    "    # Bacterium i is nondominated against all others      \n",
    "    if is_nondominated:\n",
    "      nondominated.append(bacterium_i)\n",
    "      \n",
    "  return nondominated"
   ]
  },
  {
   "cell_type": "code",
   "execution_count": 20,
   "metadata": {},
   "outputs": [],
   "source": [
    "def get_dominated(population):\n",
    "\n",
    "  dominated = []\n",
    "\n",
    "  nondominated = get_nondominated(population)\n",
    "\n",
    "  # Compare each bacterium to get nondominated\n",
    "  for bacterium in population:\n",
    "\n",
    "    is_dominated = True\n",
    "\n",
    "    # Check if bacterium is in nondominated list\n",
    "    if bacterium in nondominated:\n",
    "      continue\n",
    "\n",
    "    # Compare bacterium to all nondominated\n",
    "    for nd_bacterium in nondominated:  \n",
    "\n",
    "      if bacterium.cost > nd_bacterium.cost:\n",
    "        is_dominated = True\n",
    "        break\n",
    "\n",
    "    # Bacterium is dominated by at least one nondom\n",
    "    if is_dominated:\n",
    "      dominated.append(bacterium)\n",
    "\n",
    "  return dominated"
   ]
  },
  {
   "cell_type": "code",
   "execution_count": 21,
   "metadata": {},
   "outputs": [],
   "source": [
    "def reproduction_strategy(population, archive):\n",
    "  \n",
    "  # Get non-dominated solutions from archive and bacteria \n",
    "  nondom_archive = get_nondominated(archive) \n",
    "  nondom_bacteria = get_nondominated(population)\n",
    "  \n",
    "  Sum_nondom = len(nondom_archive) + len(nondom_bacteria)\n",
    "  \n",
    "  if Sum_nondom < len(population): # Situation 1\n",
    "    \n",
    "    BS1 = nondom_archive \n",
    "    BS2 = nondom_bacteria\n",
    "    \n",
    "    # Sort dominated bacteria and select some\n",
    "    dominated = get_dominated(population)\n",
    "    cost = [dominated[i].cost for i in range(len(dominated))] \n",
    "    sorted_indices = sorted(range(len(cost)), key=cost.__getitem__)\n",
    "    new_dominated = [dominated[i] for i in sorted_indices]\n",
    "    dominated = new_dominated.copy()\n",
    "    \n",
    "    BS3 = random.sample(dominated, len(population) - Sum_nondom)\n",
    "    \n",
    "    new_BS = BS1 + BS2 + BS3\n",
    "    \n",
    "  elif len(nondom_archive) < len(population): # Situation 2\n",
    "\n",
    "    BS1 = nondom_archive\n",
    "    BS2 = random.sample(nondom_bacteria, len(population) - len(nondom_archive))\n",
    "    new_BS = BS1 + BS2\n",
    "    \n",
    "  else: # Situation 3\n",
    "\n",
    "    BS1 = random.sample(nondom_archive, len(population))\n",
    "    new_BS = BS1\n",
    "    \n",
    "  # Reproduce and return new swarm\n",
    "  parents = new_BS[:len(new_BS)//2] \n",
    "  offspring = parents.copy()\n",
    "  return new_BS + offspring"
   ]
  },
  {
   "cell_type": "code",
   "execution_count": 325,
   "metadata": {},
   "outputs": [],
   "source": [
    "# new_population = reproduction_strategy(population, archive)"
   ]
  },
  {
   "cell_type": "code",
   "execution_count": 23,
   "metadata": {},
   "outputs": [],
   "source": [
    "def elimination_dispersal_BS(population, Ped):\n",
    "\n",
    "  dim = len(population[0].position[:-1]) # dimension of each bacterium\n",
    "\n",
    "  for i in range(len(population)):\n",
    "\n",
    "    bacterium = population[i]\n",
    "\n",
    "    if random.random() < Ped: \n",
    "      \n",
    "      # Disperse bacterium location\n",
    "      bacterium.position[:-1] = [min_val[j] + random.random() * (max_val[j]-min_val[j]) for j in range(dim)]\n",
    "      \n",
    "      # Limit to bounds and recalculate objective  \n",
    "      bacterium.position[:-1] = [min(max(x,min_val[j]),max_val[j]) for j,x in enumerate(bacterium.position[:-1])]\n",
    "      bacterium.cost = objective_function(bacterium)"
   ]
  },
  {
   "cell_type": "code",
   "execution_count": 336,
   "metadata": {},
   "outputs": [],
   "source": [
    "# new_population_1 = elimination_dispersal_BS(population, 0.2)"
   ]
  },
  {
   "cell_type": "code",
   "execution_count": 337,
   "metadata": {},
   "outputs": [
    {
     "data": {
      "text/plain": [
       "100"
      ]
     },
     "execution_count": 337,
     "metadata": {},
     "output_type": "execute_result"
    }
   ],
   "source": [
    "# len(new_population_1)"
   ]
  },
  {
   "cell_type": "code",
   "execution_count": 24,
   "metadata": {},
   "outputs": [],
   "source": [
    "def elimination_dispersal_archive(archive):\n",
    "\n",
    "  dim = len(archive[0].position[:-1])\n",
    "\n",
    "  # Keep original archive\n",
    "  archive_old = archive[:]  \n",
    "\n",
    "  # Randomly select dimension\n",
    "  temp_d = random.randint(0, dim-1)\n",
    "\n",
    "  for i in range(len(archive)):\n",
    "\n",
    "    sol = archive[i]\n",
    "\n",
    "    # Disperse randomly on selected dimension\n",
    "    sol.position[temp_d] = min_val[temp_d] + random.random() * (max_val[temp_d] - min_val[temp_d])  \n",
    "\n",
    "    # Limit and recalculate objective\n",
    "    sol.position[temp_d] = min(max(sol.position[temp_d],min_val[temp_d]),max_val[temp_d])\n",
    "    sol.cost = objective_function(sol)\n",
    "\n",
    "  # Get final archive from old and new\n",
    "  archive = archive_old + archive\n",
    "\n",
    "  return archive"
   ]
  },
  {
   "cell_type": "code",
   "execution_count": 346,
   "metadata": {},
   "outputs": [],
   "source": [
    "# new_population_2 = elimination_dispersal_archive(archive)"
   ]
  },
  {
   "cell_type": "code",
   "execution_count": 347,
   "metadata": {},
   "outputs": [
    {
     "data": {
      "text/plain": [
       "200"
      ]
     },
     "execution_count": 347,
     "metadata": {},
     "output_type": "execute_result"
    }
   ],
   "source": [
    "# len(new_population_2)"
   ]
  },
  {
   "cell_type": "code",
   "execution_count": 25,
   "metadata": {},
   "outputs": [],
   "source": [
    "df = pd.read_csv('iris.csv')\n",
    "X=df.iloc[:,0:4].values\n",
    "y=df.iloc[:,4].values"
   ]
  },
  {
   "cell_type": "code",
   "execution_count": 26,
   "metadata": {},
   "outputs": [],
   "source": [
    "from sklearn.preprocessing import StandardScaler\n",
    "X_std=StandardScaler().fit_transform(X)"
   ]
  },
  {
   "cell_type": "code",
   "execution_count": 27,
   "metadata": {},
   "outputs": [],
   "source": [
    "from sklearn.decomposition import PCA as sklearnPCA\n",
    "sklearn_pca = sklearnPCA(n_components=2)\n",
    "Y_sklearn = sklearn_pca.fit_transform(X_std)"
   ]
  },
  {
   "cell_type": "code",
   "execution_count": 28,
   "metadata": {},
   "outputs": [
    {
     "data": {
      "image/png": "[encoded data removed]",
      "text/plain": [
       "<Figure size 600x400 with 1 Axes>"
      ]
     },
     "metadata": {},
     "output_type": "display_data"
    }
   ],
   "source": [
    "import matplotlib.pyplot as plt\n",
    "with plt.style.context('seaborn-whitegrid'):\n",
    "    plt.figure(figsize=(6, 4))\n",
    "    for lab, col in zip(('Setosa', 'Versicolor', 'Virginica'),\n",
    "                        ('blue', 'red', 'green')):\n",
    "        plt.scatter(Y_sklearn[y==lab, 0],\n",
    "                    Y_sklearn[y==lab, 1],\n",
    "                    label=lab,\n",
    "                    c=col)\n",
    "    plt.xlabel('Principal Component 1')\n",
    "    plt.ylabel('Principal Component 2')\n",
    "    plt.legend(loc='upper center')\n",
    "    plt.tight_layout()\n",
    "    plt.show()\n"
   ]
  },
  {
   "cell_type": "code",
   "execution_count": 73,
   "metadata": {},
   "outputs": [
    {
     "name": "stdout",
     "output_type": "stream",
     "text": [
      "Best value: 47.518421052631595\n",
      "Best value: 47.518421052631595\n",
      "Best value: 47.518421052631595\n",
      "Best value: 47.518421052631595\n",
      "Best value: 47.518421052631595\n",
      "Best value: 47.518421052631595\n",
      "Best value: 47.518421052631595\n",
      "Best value: 47.518421052631595\n",
      "Best value: 47.518421052631595\n",
      "Best value: 47.518421052631595\n",
      "Best value: 47.518421052631595\n",
      "Best value: 47.518421052631595\n",
      "Best value: 47.518421052631595\n",
      "Best value: 47.518421052631595\n",
      "Best value: 47.518421052631595\n",
      "Best value: 47.518421052631595\n",
      "Best value: 47.518421052631595\n",
      "Best value: 47.518421052631595\n",
      "Best value: 47.518421052631595\n",
      "Best value: 47.518421052631595\n",
      "Best value: 47.518421052631595\n",
      "Best value: 47.518421052631595\n",
      "Best value: 47.518421052631595\n",
      "Best value: 47.518421052631595\n",
      "Best value: 47.518421052631595\n",
      "Best value: 47.518421052631595\n",
      "Best value: 47.518421052631595\n",
      "Best value: 47.518421052631595\n",
      "Best value: 47.518421052631595\n",
      "Best value: 47.518421052631595\n",
      "Best value: 47.518421052631595\n",
      "Best value: 47.518421052631595\n",
      "Best value: 47.518421052631595\n",
      "Best value: 47.518421052631595\n",
      "Best value: 47.518421052631595\n",
      "Best value: 47.518421052631595\n",
      "Best value: 47.518421052631595\n",
      "Best value: 47.518421052631595\n",
      "Best value: 47.518421052631595\n",
      "Best value: 47.518421052631595\n",
      "Best value: 47.518421052631595\n",
      "Best value: 47.518421052631595\n",
      "Best value: 47.518421052631595\n",
      "Best value: 47.518421052631595\n",
      "Best value: 47.518421052631595\n",
      "Best value: 47.518421052631595\n",
      "Best value: 47.518421052631595\n",
      "Best value: 47.518421052631595\n",
      "Best value: 47.518421052631595\n",
      "Best value: 47.518421052631595\n"
     ]
    }
   ],
   "source": [
    "# ES-NMPBFO\n",
    "\n",
    "population = [Bacterium() for _ in range(S)]        # Initialize positions, compute objective value and obtain the pbest of all bacteria (line 2)\n",
    "initialize_population()\n",
    "for _ in range(runtimes):\n",
    "    \n",
    "    for i in range(S):\n",
    "        objective_function(population[i])\n",
    "\n",
    "    archive = []        # Initialize the external archive Rep (line 3)\n",
    "\n",
    "    distances = [find_Euclidean_origin(population[i]) for i in range(S)]\n",
    "    sorted_indices = sorted(range(len(distances)), key=distances.__getitem__)\n",
    "    for index in sorted_indices[:20]:\n",
    "        archive.append(population[index])\n",
    "\n",
    "    minH = float('inf')\n",
    "    flag = 0\n",
    "    count_state = 0\n",
    "    count_rep = 0\n",
    "    total_AH = 0\n",
    "\n",
    "    for iter in range(MaxIter):         # line 5\n",
    "        c_gbest, d_gbest = select_gbests(archive, ideal_point = best_position)      # line 7\n",
    "        minH, flag, count_state = es_estimation(archive, nobj = 1)                  # line 8\n",
    "        if flag == 0:\n",
    "            gbest = c_gbest\n",
    "        else:\n",
    "            gbest = d_gbest\n",
    "\n",
    "        chemotaxis(gbest, iter = iter)\n",
    "\n",
    "        minH, flag, count_state = es_estimation(archive, nobj=1)\n",
    "\n",
    "        if iter % F_re == 0:\n",
    "            new_population = reproduction_strategy(population, archive)\n",
    "        \n",
    "        sum = 0\n",
    "        for bacterium in new_population:\n",
    "            distance = find_Euclidean_origin(bacterium)\n",
    "            sum += distance\n",
    "        total_A = sum\n",
    "        total_AH = total_A\n",
    "        if total_AH == total_A:\n",
    "            count_rep += 1\n",
    "        \n",
    "        if count_rep >= 1:\n",
    "            elimination_dispersal_BS(new_population, P_ed)\n",
    "            archive = elimination_dispersal_archive(archive)\n",
    "\n",
    "        minH, flag, count_state = es_estimation(archive, nobj = 1)\n",
    "\n",
    "        population = new_population[:150]\n",
    "        print('Best value:', best_value)"
   ]
  },
  {
   "cell_type": "code",
   "execution_count": 64,
   "metadata": {},
   "outputs": [],
   "source": [
    "new_data = [bacterium.position[:-1] for bacterium in population]"
   ]
  },
  {
   "cell_type": "code",
   "execution_count": 65,
   "metadata": {},
   "outputs": [],
   "source": [
    "new_data_std = StandardScaler().fit_transform(new_data)\n",
    "Y = sklearn_pca.fit_transform(new_data_std)"
   ]
  },
  {
   "cell_type": "code",
   "execution_count": 66,
   "metadata": {},
   "outputs": [
    {
     "data": {
      "image/png": "[encoded data removed]",
      "text/plain": [
       "<Figure size 600x400 with 1 Axes>"
      ]
     },
     "metadata": {},
     "output_type": "display_data"
    }
   ],
   "source": [
    "with plt.style.context('seaborn-whitegrid'):\n",
    "    plt.figure(figsize=(6, 4))\n",
    "    for lab, col in zip(('Setosa', 'Versicolor', 'Virginica'),\n",
    "                        ('blue', 'red', 'green')):\n",
    "        plt.scatter(Y[y==lab, 0],\n",
    "                    Y[y==lab, 1],\n",
    "                    label=lab,\n",
    "                    c=col)\n",
    "    plt.xlabel('Principal Component 1')\n",
    "    plt.ylabel('Principal Component 2')\n",
    "    plt.legend(loc='upper center')\n",
    "    plt.tight_layout()\n",
    "    plt.show()"
   ]
  }
 ],
 "metadata": {
  "kernelspec": {
   "display_name": "tinyml2",
   "language": "python",
   "name": "python3"
  },
  "language_info": {
   "codemirror_mode": {
    "name": "ipython",
    "version": 3
   },
   "file_extension": ".py",
   "mimetype": "text/x-python",
   "name": "python",
   "nbconvert_exporter": "python",
   "pygments_lexer": "ipython3",
   "version": "3.7.0"
  }
 },
 "nbformat": 4,
 "nbformat_minor": 2
}
