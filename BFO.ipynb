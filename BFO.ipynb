{
 "cells": [
  {
   "cell_type": "code",
   "execution_count": 4,
   "metadata": {},
   "outputs": [],
   "source": [
    "import numpy as np\n",
    "from sklearn.datasets import load_iris"
   ]
  },
  {
   "cell_type": "code",
   "execution_count": 5,
   "metadata": {},
   "outputs": [],
   "source": [
    "iris = load_iris()\n",
    "data = iris.data\n",
    "num_clusters = 3  # We want to cluster the data into three classes"
   ]
  },
  {
   "cell_type": "code",
   "execution_count": 6,
   "metadata": {},
   "outputs": [],
   "source": [
    "population_size = 50\n",
    "tumble_step = 0.02\n",
    "swim_length = 0.5\n",
    "elim_disp_prob = 0.25\n",
    "reprod_prob = 0.45\n",
    "collapse_prob = 0.25\n",
    "steps = 5"
   ]
  },
  {
   "cell_type": "code",
   "execution_count": 7,
   "metadata": {},
   "outputs": [],
   "source": [
    "class BFOCluster:\n",
    "    def __init__(self, data, num_clusters, population_size, tumble_step, swim_length,\n",
    "                 elim_disp_prob, reprod_prob, collapse_prob, steps):\n",
    "        self.data = data\n",
    "        self.num_clusters = num_clusters\n",
    "        self.population_size = population_size\n",
    "        self.tumble_step = tumble_step\n",
    "        self.swim_length = swim_length\n",
    "        self.elim_disp_prob = elim_disp_prob\n",
    "        self.reprod_prob = reprod_prob\n",
    "        self.collapse_prob = collapse_prob\n",
    "        self.steps = steps\n",
    "        self.population = []\n",
    "\n",
    "    def initialize_population(self):\n",
    "        self.population = np.random.uniform(low=np.min(self.data), high=np.max(self.data),\n",
    "                                            size=(self.population_size, self.num_clusters, self.data.shape[1]))\n",
    "    \n",
    "    def fitness_function(self, centroids):\n",
    "        labels = np.argmin(np.linalg.norm(self.data[:, np.newaxis] - centroids, axis=-1), axis=-1)\n",
    "        sse = np.sum(np.square(np.linalg.norm(self.data[:, np.newaxis] - centroids[labels], axis=-1)))\n",
    "        return sse\n",
    "\n",
    "    def tumble(self, position):\n",
    "        displacement = np.random.uniform(-self.tumble_step, self.tumble_step, size=position.shape)\n",
    "        new_position = position + displacement\n",
    "        new_position = np.clip(new_position, np.min(self.data), np.max(self.data))\n",
    "        return new_position\n",
    "\n",
    "    def swim(self, position):\n",
    "        direction = np.random.uniform(size=position.shape)\n",
    "        direction /= np.linalg.norm(direction)\n",
    "        step_size = np.random.uniform(0, self.swim_length)\n",
    "        new_position = position + step_size * direction\n",
    "        new_position = np.clip(new_position, np.min(self.data), np.max(self.data))\n",
    "        return new_position\n",
    "\n",
    "    def eliminate_disperse(self):\n",
    "        for i in range(len(self.population)):\n",
    "            if np.random.uniform() < self.elim_disp_prob:\n",
    "                self.population[i] = self.swim(self.tumble(self.population[i]))\n",
    "\n",
    "    def reproduce(self):\n",
    "        offspring = []\n",
    "        for i in range(len(self.population)):\n",
    "            if np.random.uniform() < self.reprod_prob:\n",
    "                parent = self.population[i]\n",
    "                child = self.swim(self.tumble(parent))\n",
    "                offspring.append(child)\n",
    "        self.population = np.concatenate((self.population, offspring), axis=0)\n",
    "\n",
    "    def collapse(self):\n",
    "        if np.random.uniform() < self.collapse_prob:\n",
    "            self.population = np.unique(self.population, axis=0)\n",
    "\n",
    "    def run(self):\n",
    "        self.initialize_population()\n",
    "\n",
    "        for _ in range(self.steps):\n",
    "            self.eliminate_disperse()\n",
    "            self.reproduce()\n",
    "            self.collapse()\n",
    "\n",
    "        best_fitness = float('inf')\n",
    "        best_centroids = None\n",
    "        for position in self.population:\n",
    "            centroids = position.reshape((-1, self.data.shape[1]))\n",
    "            fitness = self.fitness_function(centroids)\n",
    "            if fitness < best_fitness:\n",
    "                best_fitness = fitness\n",
    "                best_centroids = centroids\n",
    "\n",
    "        return best_centroids"
   ]
  },
  {
   "cell_type": "code",
   "execution_count": null,
   "metadata": {},
   "outputs": [],
   "source": [
    "bfo = BFOCluster(data, num_clusters, population_size, tumble_step, swim_length,\n",
    "                 elim_disp_prob, reprod_prob, collapse_prob, steps)\n",
    "best_centroids = bfo.run()\n",
    "best_labels = np.argmin(np.linalg.norm(data[:, np.newaxis] - best_centroids, axis=-1), axis=-1)"
   ]
  },
  {
   "cell_type": "code",
   "execution_count": null,
   "metadata": {},
   "outputs": [],
   "source": [
    "import matplotlib.pyplot as plt\n",
    "\n",
    "# Create a scatter plot of the data points\n",
    "plt.scatter(data[:, 0], data[:, 1], c=best_labels, cmap='viridis')\n",
    "plt.xlabel('Sepal Length')\n",
    "plt.ylabel('Sepal Width')\n",
    "\n",
    "# Plot the centroids\n",
    "for centroid in best_centroids:\n",
    "    plt.scatter(centroid[0], centroid[1], marker='x', color='red', s=100)\n",
    "\n",
    "plt.title('BFO Clustering of Iris Dataset')\n",
    "plt.show()"
   ]
  }
 ],
 "metadata": {
  "kernelspec": {
   "display_name": "tinyml2",
   "language": "python",
   "name": "python3"
  },
  "language_info": {
   "codemirror_mode": {
    "name": "ipython",
    "version": 3
   },
   "file_extension": ".py",
   "mimetype": "text/x-python",
   "name": "python",
   "nbconvert_exporter": "python",
   "pygments_lexer": "ipython3",
   "version": "3.7.0"
  }
 },
 "nbformat": 4,
 "nbformat_minor": 2
}
